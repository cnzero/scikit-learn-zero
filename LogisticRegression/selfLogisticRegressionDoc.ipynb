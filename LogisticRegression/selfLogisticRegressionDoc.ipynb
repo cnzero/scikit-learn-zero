{
 "cells": [
  {
   "cell_type": "markdown",
   "metadata": {},
   "source": [
    "## Explanation\n",
    "早已经把Andrew Ng的课程刷完了，也把第一节课的编程作业完成了。\n",
    "但是仍然感到不满足，就在想，为什么不能够自己封装出来一个类呢——这是之前用MATLAB编程中稍稍取得的一些经验，\n",
    "说干就干，所以，完成了，在改Jupyter Notebook的文档中进行了测试说明。\n",
    "\n",
    "在selfDefinedClassLR.py 文件中定义了基本的classLR类，并封装出来了一些基本的函数，比如 `fit` `predict` `score` 等。\n",
    "都是仿照sklearn中的东西，但是跟sklearn里面的考虑全面、运行效率还差的很远很远。\n",
    "但，我知道，我至少已经慢慢迈出去了第一步，还有下一步，下一步 . . ."
   ]
  },
  {
   "cell_type": "code",
   "execution_count": 1,
   "metadata": {
    "collapsed": false
   },
   "outputs": [
    {
     "name": "stdout",
     "output_type": "stream",
     "text": [
      "Yes, you did initiate classLR.\n",
      "Hello world.Edit by remote vim.\n",
      "0.9875\n",
      "0.98\n"
     ]
    },
    {
     "name": "stderr",
     "output_type": "stream",
     "text": [
      "/home/zero/T450/LogisticRegression/selfDefinedClassLR.py:93: RuntimeWarning: overflow encountered in exp\n",
      "  s = 1/(1+np.exp(-1*z))\n"
     ]
    }
   ],
   "source": [
    "from selfLogisticRegression import classLR\n",
    "import pandas as pd\n",
    "from sklearn.model_selection import train_test_split\n",
    "mnist = pd.read_csv('../DataSets/MNIST/mnist_train.csv')\n",
    "columns = ['label'] + ['pix'+str(i) for i in range(784)]\n",
    "mnist.columns = columns\n",
    "\n",
    "mnistAB = mnist[mnist.label<=1]\n",
    "X = mnistAB.iloc[0:500, 1:].as_matrix()\n",
    "Y = mnistAB.iloc[0:500, :1].as_matrix()\n",
    "train_X, test_X, train_Y, test_Y = train_test_split(X, Y, train_size=0.8, random_state=0)\n",
    "# 400 x 784\n",
    "clf = classLR()\n",
    "\n",
    "clf.fit(train_X.T, train_Y.T)\n",
    "print(clf.score(train_X.T, train_Y.T))\n",
    "print(clf.score(test_X.T, test_Y.T))"
   ]
  },
  {
   "cell_type": "markdown",
   "metadata": {},
   "source": [
    "### 后续讨论\n",
    "__与 `sklearn` 对比，有哪些不足__\n",
    "1. 很明显，sklearn非常全面\n",
    "2. 其中添加了文档测试，既作测试，也是可读性很强的文档说明；\n",
    "3. 比较疑惑的是：我原以为其会像我这样将必要的模型封装成各个类，或者在其上进行向上抽象；\n",
    "\n",
    "    然而，在其源代码中却很少看到 __类的继承__ 等运用形式？其中大量的还是各种函数集合，表示很难理解。\n",
    "    \n",
    "\n",
    "__结合知乎问题，还有更多不足__\n",
    "\n",
    "[面试官如何判断面试者的机器学习水平](https://www.zhihu.com/question/62482926)\n",
    "这是一个好问题，认真反思，查漏补缺。\n",
    "\n",
    "要搞一个问题，就认真、深入。\n"
   ]
  }
 ],
 "metadata": {
  "anaconda-cloud": {},
  "kernelspec": {
   "display_name": "Python [default]",
   "language": "python",
   "name": "python3"
  },
  "language_info": {
   "codemirror_mode": {
    "name": "ipython",
    "version": 3
   },
   "file_extension": ".py",
   "mimetype": "text/x-python",
   "name": "python",
   "nbconvert_exporter": "python",
   "pygments_lexer": "ipython3",
   "version": "3.5.2"
  }
 },
 "nbformat": 4,
 "nbformat_minor": 1
}
